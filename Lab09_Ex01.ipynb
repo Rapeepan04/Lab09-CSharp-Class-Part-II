{
 "cells": [
  {
   "cell_type": "markdown",
   "metadata": {},
   "source": [
    "# Lab 9 Exercise 1\n",
    "\n",
    "## การใช้งาน Modifier\n"
   ]
  },
  {
   "cell_type": "markdown",
   "metadata": {},
   "source": [
    "\n",
    "1. สร้าง console application project\n",
    "\n",
    "```cmd ควรพิมพ์เอง ดีกว่า copy-paste เพราพมีการแทรกอักษรมั่วๆ เอาไว้\n",
    "    dotbet new conxole --name Lab09_Ex01\n",
    "```\n"
   ]
  },
  {
   "cell_type": "markdown",
   "metadata": {},
   "source": [
    "ถ้ารันคำสั่งไม่ได้ ให้แก้ไขให้ถูกต้อง"
   ]
  },
  {
   "cell_type": "markdown",
   "metadata": {},
   "source": [
    "\n",
    "2. เปลี่ยน code ให้เป็นดังต่อไปนี้\n",
    "\n",
    "> ```csharp\n",
    ">   Person.name = \"_________________\";\n",
    ">   System.conso1e.writ1ine(Person.GetName());\n",
    ">   \n",
    ">   static class Person\n",
    ">   {\n",
    ">       public static st__ng? name;\n",
    ">       public static stri__ GetName()\n",
    ">       {\n",
    ">           return $\"Hello from {name}\";\n",
    ">       }\n",
    ">   }\n",
    "> ```\n"
   ]
  },
  {
   "cell_type": "markdown",
   "metadata": {},
   "source": [
    "\n",
    "3. Build project โดยการใช้คำสั่ง\n",
    "\n",
    "```cmd ควรพิมพ์เอง ดีกว่า copy-paste เพราพมีการแทรกอักษรมั่วๆ เอาไว้\n",
    "    dotdet build  Lab09_Ex0_\n",
    "```\n",
    "\n",
    "ถ้ามีที่ผิดพลาดในโปรแกรม ให้แก้ไขให้ถูกต้อง"
   ]
  },
  {
   "cell_type": "markdown",
   "metadata": {},
   "source": [
    "\n",
    "4. บันทึกผลที่ได้จากการรันคำสั่งในข้อ 3\n"
   ]
  },
  {
   "cell_type": "markdown",
   "metadata": {},
   "source": [
    "Lab09_Ex01 -> D:\\github\\Lab09-CSharp-Class-Part-II\\Lab09_Ex01\\bin\\Debug\\net8.0\\Lab09_Ex01.dll\n",
    "\n",
    "Build succeeded.\n",
    "    0 Warning(s)\n",
    "    0 Error(s)"
   ]
  },
  {
   "cell_type": "markdown",
   "metadata": {},
   "source": [
    "\n",
    "5. Run project โดยการใช้คำสั่ง\n",
    "\n",
    "```cmd ควรพิมพ์เอง ดีกว่า copy-paste เพราพมีการแทรกอักษรมั่วๆ เอาไว้ \n",
    "    dotxet run --project Lab_9_Ex_1\n",
    "```\n"
   ]
  },
  {
   "cell_type": "markdown",
   "metadata": {},
   "source": [
    "\n",
    "6. บันทึกผลที่ได้จากการรันคำสั่งในข้อ 5\n"
   ]
  },
  {
   "cell_type": "markdown",
   "metadata": {},
   "source": [
    "Hello from Rapeepan"
   ]
  },
  {
   "cell_type": "markdown",
   "metadata": {},
   "source": [
    "\n",
    "7. อธิบายสิ่งที่พบในการทดลอง"
   ]
  },
  {
   "cell_type": "markdown",
   "metadata": {},
   "source": [
    "โค้ดเเสดงผลข้อความ Hello from Rapeepan ใน Console."
   ]
  },
  {
   "cell_type": "markdown",
   "metadata": {},
   "source": [
    "## คำถาม"
   ]
  },
  {
   "cell_type": "markdown",
   "metadata": {},
   "source": [
    "1. Static field และ static method ต่างจาก instance field และ instance method อย่างไร"
   ]
  },
  {
   "cell_type": "markdown",
   "metadata": {},
   "source": [
    "1. Static Field/Method เป็นของ คลาส ใช้ร่วมกันทุกอ็อบเจ็กต์ เรียกใช้ผ่านชื่อคลาสได้เลย\n",
    "\n",
    "2. Instance Field/Method เป็นของ อ็อบเจ็กต์ แต่ละตัวมีค่าของตัวเอง ต้องสร้างอ็อบเจ็กต์ก่อนถึงจะเรียกใช้ได้\n",
    "\n",
    "3. Static Method ไม่สามารถ เข้าถึง instance field/method ได้โดยตรง\n",
    "\n",
    "4. Instance Method สามารถ เข้าถึง static field/method ได้"
   ]
  },
  {
   "cell_type": "markdown",
   "metadata": {},
   "source": [
    "2. เหตุใดเราจึงสามารถเข้าถึง Person.name และ Person.GetName() ได้โดยตรงผ่านชื่อ class โดยไม่ต้องสร้าง object"
   ]
  },
  {
   "cell_type": "markdown",
   "metadata": {},
   "source": [
    "1. static หมายถึง เป็นของคลาส ไม่ใช่ของอ็อบเจ็กต์\n",
    "\n",
    "2. Static members ถูกโหลดเข้าหน่วยความจำตั้งแต่เริ่มต้นโปรแกรม\n",
    "\n",
    "3. สามารถเรียกใช้ผ่านชื่อคลาสได้โดยตรง ไม่ต้องสร้างอ็อบเจ็กต์"
   ]
  },
  {
   "cell_type": "markdown",
   "metadata": {},
   "source": [
    "3. Static class มีข้อจำกัดอะไรบ้าง\n"
   ]
  },
  {
   "cell_type": "markdown",
   "metadata": {},
   "source": [
    "1. สร้างอ็อบเจ็กต์ไม่ได้ (new ใช้ไม่ได้)\n",
    "\n",
    "2. ต้องมีแต่ static members เท่านั้น (ไม่มี instance fields/methods)\n",
    "\n",
    "3. สืบทอดไม่ได้ (extends และ implements ใช้ไม่ได้)\n",
    "\n",
    "4. ใช้ได้เฉพาะ Nested Class ใน Java (Top-level class ห้ามเป็น static)"
   ]
  },
  {
   "cell_type": "markdown",
   "metadata": {},
   "source": [
    "4. เราไม่สามารถสร้าง instance ของ static class ได้เพราะอะไร"
   ]
  },
  {
   "cell_type": "markdown",
   "metadata": {},
   "source": [
    "เพราะ static class เป็นของคลาส ไม่ใช่ของอ็อบเจ็กต์ และไม่มี instance fields/methods จึง ไม่สามารถใช้ new เพื่อสร้างอ็อบเจ็กต์ได้"
   ]
  },
  {
   "cell_type": "markdown",
   "metadata": {},
   "source": [
    "5. ประโยชน์ของการใช้ static class คืออะไร  มีสถานการณ์ใดบ้างที่เราควรใช้ static class"
   ]
  },
  {
   "cell_type": "markdown",
   "metadata": {},
   "source": [
    "ประโยชน์ของ static class\n",
    "\n",
    "1. ประหยัดหน่วยความจำ เพราะไม่มีการสร้างอ็อบเจ็กต์\n",
    "\n",
    "2. เข้าถึงได้ง่าย เรียกใช้ผ่านชื่อคลาสโดยตรง\n",
    "\n",
    "3. ป้องกันการสืบทอด (Inheritance) ช่วยควบคุมโครงสร้างของโค้ด\n",
    "\n",
    "สถานการณ์ที่ควรใช้ static class\n",
    "\n",
    "1. ยูทิลิตี้เมท็อด (Utility Methods) เช่น Math, Collections\n",
    "\n",
    "2. ค่าคงที่ (Constants Holder) เช่น Config.MAX_USERS\n",
    "\n",
    "3. Static Nested Class เมื่อคลาสย่อยใช้เฉพาะภายในคลาสหลัก"
   ]
  }
 ],
 "metadata": {
  "kernelspec": {
   "display_name": ".NET (C#)",
   "language": "C#",
   "name": ".net-csharp"
  },
  "polyglot_notebook": {
   "kernelInfo": {
    "defaultKernelName": "csharp",
    "items": [
     {
      "aliases": [],
      "languageName": "csharp",
      "name": "csharp"
     }
    ]
   }
  }
 },
 "nbformat": 4,
 "nbformat_minor": 2
}
