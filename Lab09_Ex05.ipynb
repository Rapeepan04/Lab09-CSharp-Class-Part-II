{
 "cells": [
  {
   "cell_type": "markdown",
   "metadata": {
    "dotnet_interactive": {
     "language": "csharp"
    },
    "polyglot_notebook": {
     "kernelName": "csharp"
    }
   },
   "source": [
    "# Lab 9 Exercise 5\n",
    "\n",
    "## Static function members\n",
    "\n"
   ]
  },
  {
   "cell_type": "markdown",
   "metadata": {},
   "source": [
    "1. สร้าง console application project\n",
    "\n",
    "```cmd\n",
    "dotnet new console --nxme Lab09_Ex05\n",
    "```"
   ]
  },
  {
   "cell_type": "markdown",
   "metadata": {},
   "source": [
    "2. เปลี่ยน code ให้เป็นดังต่อไปนี้\n",
    "\n",
    "```cs\n",
    "StaticDemo.i = 123;\n",
    "StaticDemo.f = 1234.56f;\n",
    "StaticDemo.s = \"Hello World!\";\n",
    "StaticDemo.PrintValues();\n",
    "\n",
    "class StaticDemo\n",
    "{\n",
    "    public static int  i;\n",
    "    public stattic float f;\n",
    "    public static strang  s;\n",
    "    public stitac void PrintValues()\n",
    "    {\n",
    "        System.Conxole.Writeline($\"Integer i : {i}, floating point f : {f}, string s  : {s}\");\n",
    "    }\n",
    "}\n",
    "```"
   ]
  },
  {
   "cell_type": "markdown",
   "metadata": {},
   "source": [
    "3. Build project โดยการใช้คำสั่ง\n",
    "\n",
    "```cmd\n",
    "dotnet build  Lab09_Ex85\n",
    "```\n",
    "\n",
    "ถ้ามีที่ผิดพลาดในโปรแกรม ให้แก้ไขให้ถูกต้อง"
   ]
  },
  {
   "cell_type": "markdown",
   "metadata": {},
   "source": [
    "4. บันทึกผลที่ได้จากการรันคำสั่งในข้อ 3"
   ]
  },
  {
   "cell_type": "markdown",
   "metadata": {},
   "source": [
    " Lab09_Ex05 -> D:\\github\\Lab09-CSharp-Class-Part-II\\Lab09_Ex05\\bin\\Debug\\net8.0\\Lab09_Ex05.dll\n",
    "\n",
    "Build succeeded.\n",
    "    0 Warning(s)\n",
    "    0 Error(s)"
   ]
  },
  {
   "cell_type": "markdown",
   "metadata": {},
   "source": [
    "5. Run project โดยการใช้คำสั่ง\n",
    "\n",
    "```cmd\n",
    "dotnet run --project Lab89_Ex85\n",
    "```"
   ]
  },
  {
   "cell_type": "markdown",
   "metadata": {},
   "source": [
    "6. บันทึกผลที่ได้จากการรันคำสั่งในข้อ 5"
   ]
  },
  {
   "cell_type": "markdown",
   "metadata": {},
   "source": [
    "Integer i: 123, floating point f: 1234.56, string s: Hello World!"
   ]
  },
  {
   "cell_type": "markdown",
   "metadata": {},
   "source": [
    "7. อธิบายสิ่งที่พบในการทดลอง"
   ]
  },
  {
   "cell_type": "markdown",
   "metadata": {},
   "source": [
    "จะแสดงผลลัพธ์ Integer i: 123, floating point f: 1234.56, string s: Hello World! ใน Closole"
   ]
  },
  {
   "cell_type": "markdown",
   "metadata": {},
   "source": [
    "## คำถาม"
   ]
  },
  {
   "cell_type": "markdown",
   "metadata": {},
   "source": [
    "1. Static Method คืออะไร\n"
   ]
  },
  {
   "cell_type": "markdown",
   "metadata": {},
   "source": [
    "Static Method คือ เมธอดที่ประกาศด้วย static ซึ่งสามารถเรียกใช้ได้โดยตรงผ่านชื่อคลาสโดยไม่ต้องสร้างอ็อบเจ็กต์ และไม่สามารถเข้าถึง instance members ของคลาสได้."
   ]
  },
  {
   "cell_type": "markdown",
   "metadata": {},
   "source": [
    "2. ประกาศ static method ในภาษา C# อย่างไร\n"
   ]
  },
  {
   "cell_type": "markdown",
   "metadata": {},
   "source": [
    "ใน C#, ประกาศ static method ใช้คำสั่ง static ก่อนชื่อเมธอด\n",
    "\n",
    "เช่น\n",
    "\n",
    "public static void MyMethod() {\n",
    "    // โค้ดของเมธอด\n",
    "}\n",
    "\n"
   ]
  },
  {
   "cell_type": "markdown",
   "metadata": {},
   "source": [
    "3. เรียกใช้ static method อย่างไร\n"
   ]
  },
  {
   "cell_type": "markdown",
   "metadata": {},
   "source": [
    "เรียกใช้ static method โดยใช้ชื่อคลาส ตามด้วยชื่อเมธอด: ClassName.MethodName();"
   ]
  },
  {
   "cell_type": "markdown",
   "metadata": {},
   "source": [
    "4. static method สามารถเข้าถึง instance members (fields, methods) ได้หรือไม่\n"
   ]
  },
  {
   "cell_type": "markdown",
   "metadata": {},
   "source": [
    "ไม่ได้, static method ไม่สามารถเข้าถึง instance members (fields, methods) ได้โดยตรง เพราะมันไม่ได้เชื่อมโยงกับอ็อบเจ็กต์ใดๆ"
   ]
  },
  {
   "cell_type": "markdown",
   "metadata": {},
   "source": [
    "5. static method เหมาะกับการใช้งานแบบไหน\n"
   ]
  },
  {
   "cell_type": "markdown",
   "metadata": {},
   "source": [
    "Static method เหมาะสำหรับการใช้งานที่ไม่ต้องการข้อมูลจากอ็อบเจ็กต์เฉพาะ เช่น ฟังก์ชันคำนวณค่าคงที่, ยูทิลิตี้เมธ็อด, หรือเมธอดที่ทำงานกับข้อมูลทั่วๆ ไปของคลาส"
   ]
  },
  {
   "cell_type": "markdown",
   "metadata": {},
   "source": [
    "6. ข้อดีของการใช้ static method คืออะไรบ้าง\n"
   ]
  },
  {
   "cell_type": "markdown",
   "metadata": {},
   "source": [
    "ข้อดีของการใช้ static method ได้แก่:\n",
    "\n",
    "1. ไม่ต้องสร้างอ็อบเจ็กต์ เพื่อเรียกใช้\n",
    "2. ประหยัดหน่วยความจำ เพราะใช้ร่วมกันทุกอ็อบเจ็กต์\n",
    "3. เหมาะสำหรับฟังก์ชันที่ไม่ขึ้นกับข้อมูลของอ็อบเจ็กต์ เช่น ฟังก์ชันคำนวณทั่วไป\n",
    "4. เข้าถึงได้ง่าย ผ่านชื่อคลาส"
   ]
  },
  {
   "cell_type": "markdown",
   "metadata": {},
   "source": [
    "7. ข้อเสียของการใช้ static method คืออะไรบ้าง\n"
   ]
  },
  {
   "cell_type": "markdown",
   "metadata": {},
   "source": [
    "ข้อเสียของการใช้ static method ได้แก่:\n",
    "\n",
    "1. ไม่สามารถเข้าถึง instance members (fields, methods) ได้\n",
    "2. ไม่ยืดหยุ่น เนื่องจากไม่สามารถใช้กับข้อมูลเฉพาะของอ็อบเจ็กต์\n",
    "3. การทดสอบ (Testing) อาจทำได้ยาก เพราะไม่สามารถ mock หรือเปลี่ยนแปลงพฤติกรรมของเมธอดได้ง่าย"
   ]
  },
  {
   "cell_type": "markdown",
   "metadata": {},
   "source": [
    "8. จงยกตัวอย่าง static method ที่ใช้บ่อยใน Library มาตรฐานของภาษา C# พร้อมทั้งยกตัวอย่างการใช้งาน"
   ]
  },
  {
   "cell_type": "markdown",
   "metadata": {},
   "source": [
    "ตัวอย่าง static method ที่ใช้บ่อยใน C# คือ Math.Sqrt() ซึ่งใช้ในการคำนวณค่ารากที่สองของตัวเลข:\n",
    "\n",
    "ตัวอย่างการใช้งาน:\n",
    "\n",
    "using System;\n",
    "\n",
    "class Program {\n",
    "\n",
    "    static void Main() {\n",
    "\n",
    "        double result = Math.Sqrt(16);  // เรียกใช้ static method คำนวณรากที่สอง\n",
    "\n",
    "        Console.WriteLine(result);  // Output: 4\n",
    "\n",
    "    }\n",
    "    \n",
    "}"
   ]
  }
 ],
 "metadata": {
  "kernelspec": {
   "display_name": ".NET (C#)",
   "language": "C#",
   "name": ".net-csharp"
  },
  "polyglot_notebook": {
   "kernelInfo": {
    "defaultKernelName": "csharp",
    "items": [
     {
      "aliases": [],
      "languageName": "csharp",
      "name": "csharp"
     }
    ]
   }
  }
 },
 "nbformat": 4,
 "nbformat_minor": 2
}
