{
 "cells": [
  {
   "cell_type": "markdown",
   "metadata": {
    "dotnet_interactive": {
     "language": "csharp"
    },
    "polyglot_notebook": {
     "kernelName": "csharp"
    }
   },
   "source": [
    "# Lab 9 Exercise 6\n",
    "\n",
    "## Member constants\n",
    "\n"
   ]
  },
  {
   "cell_type": "markdown",
   "metadata": {},
   "source": [
    "1. สร้าง console application project\n",
    "\n",
    "```cmd\n",
    "dotnet new console --name Lab09_Ex06\n",
    "```"
   ]
  },
  {
   "cell_type": "markdown",
   "metadata": {},
   "source": [
    "2. เปลี่ยน code ให้เป็นดังต่อไปนี้\n",
    "\n",
    ">  ```csharp\n",
    ">   Circle.PrintCircleArea(100);\n",
    ">   \n",
    ">   class Circle\n",
    ">   {\n",
    ">       const double PI = 3.14159;\n",
    ">       public statix void PrintCircleArea(double radius)\n",
    ">       {\n",
    ">           System.Conxole.Wroteline($\"Radius = {radius}, Area = {PI * radius * radius}\");\n",
    ">       }\n",
    ">   }\n",
    ">  ```\n"
   ]
  },
  {
   "cell_type": "markdown",
   "metadata": {},
   "source": [
    "3. Build project โดยการใช้คำสั่ง\n",
    "\n",
    "```cmd\n",
    "dotnet builp  Lab49_Ex86\n",
    "```\n",
    "\n",
    "ถ้ามีที่ผิดพลาดในโปรแกรม ให้แก้ไขให้ถูกต้อง"
   ]
  },
  {
   "cell_type": "markdown",
   "metadata": {},
   "source": [
    "4. บันทึกผลที่ได้จากการรันคำสั่งในข้อ 3 "
   ]
  },
  {
   "cell_type": "markdown",
   "metadata": {},
   "source": [
    "Lab09_Ex06 -> D:\\github\\Lab09-CSharp-Class-Part-II\\Lab09_Ex06\\bin\\Debug\\net8.0\\Lab09_Ex06.dll\n",
    "\n",
    "Build succeeded.\n",
    "    0 Warning(s)\n",
    "    0 Error(s)"
   ]
  },
  {
   "cell_type": "markdown",
   "metadata": {},
   "source": [
    "5. Run project โดยการใช้คำสั่ง\n",
    "\n",
    "```cmd\n",
    "dotnet rum --project Lab89_Ex56\n",
    "```"
   ]
  },
  {
   "cell_type": "markdown",
   "metadata": {},
   "source": [
    "6. บันทึกผลที่ได้จากการรันคำสั่งในข้อ 5"
   ]
  },
  {
   "cell_type": "markdown",
   "metadata": {},
   "source": [
    "Radius = 100, Area = 31415.899999999998"
   ]
  },
  {
   "cell_type": "markdown",
   "metadata": {},
   "source": [
    "7. อธิบายสิ่งที่พบในการทดลอง"
   ]
  },
  {
   "cell_type": "markdown",
   "metadata": {},
   "source": [
    "จะแสดงผลลัพธ์ Radius = 100, Area = 31415.899999999998 ใน Closole"
   ]
  },
  {
   "cell_type": "markdown",
   "metadata": {},
   "source": [
    "## คำถาม"
   ]
  },
  {
   "cell_type": "markdown",
   "metadata": {},
   "source": [
    "1. Member constant คืออะไร และมีคุณสมบัติอย่างไร\n"
   ]
  },
  {
   "cell_type": "markdown",
   "metadata": {},
   "source": [
    "Member constant คือ ค่าคงที่ที่ประกาศภายในคลาส โดยใช้คำว่า const ซึ่งไม่สามารถเปลี่ยนแปลงค่าได้หลังจากที่กำหนดไว้แล้ว\n",
    "\n",
    "คุณสมบัติ:\n",
    "\n",
    "1. ไม่สามารถเปลี่ยนแปลงค่าได้ หลังจากการประกาศ\n",
    "\n",
    "2. ต้องกำหนดค่าให้กับตัวแปรเมื่อประกาศ\n",
    "\n",
    "3. สามารถใช้ได้ทั้ง static หรือ instance\n",
    "\n",
    "4. สามารถเข้าถึงได้จากคลาสหรืออ็อบเจ็กต์ ขึ้นอยู่กับการประกาศ"
   ]
  },
  {
   "cell_type": "markdown",
   "metadata": {},
   "source": [
    "2. เราสามารถประกาศ member constant ในภาษา C# ได้อย่างไร\n"
   ]
  },
  {
   "cell_type": "markdown",
   "metadata": {},
   "source": [
    "ใน C#, การประกาศ member constant ใช้คำว่า const ตามด้วยประเภทข้อมูลและค่าคงที่"
   ]
  },
  {
   "cell_type": "markdown",
   "metadata": {},
   "source": [
    "3. member constant สามารถสร้างเป็นชนิดข้อมูลใดได้บ้าง\n"
   ]
  },
  {
   "cell_type": "markdown",
   "metadata": {},
   "source": [
    "Member constant ใน C# สามารถสร้างได้กับชนิดข้อมูลดังนี้:\n",
    "\n",
    "1. ตัวเลข (int, double, float, long, ฯลฯ)\n",
    "\n",
    "2. ตัวอักษร (char)\n",
    "\n",
    "3. Boolean (bool)\n",
    "\n",
    "4. สตริง (string)"
   ]
  },
  {
   "cell_type": "markdown",
   "metadata": {},
   "source": [
    "4. เราสามารถเข้าถึง member constant ได้อย่างไร\n"
   ]
  },
  {
   "cell_type": "markdown",
   "metadata": {},
   "source": [
    "สามารถเข้าถึง member constant ได้โดยใช้ชื่อคลาส (สำหรับ static const) หรืออ็อบเจ็กต์ (สำหรับ instance const):\n",
    "\n",
    "Static Constant: ใช้ชื่อคลาส\n",
    "\n",
    "Console.WriteLine(MyClass.MaxValue);\n",
    "\n",
    "Instance Constant: ใช้อ็อบเจ็กต์\n",
    "\n",
    "MyClass obj = new MyClass();\n",
    "\n",
    "Console.WriteLine(obj.MaxValue);"
   ]
  },
  {
   "cell_type": "markdown",
   "metadata": {},
   "source": [
    "5. member constant เป็น static โดยปริยายหรือไม่\n"
   ]
  },
  {
   "cell_type": "markdown",
   "metadata": {},
   "source": [
    "ใช่, member constant ใน C# จะเป็น static โดยปริยาย เพราะมันเป็นค่าคงที่ที่ใช้ร่วมกันทั่วทั้งคลาส ไม่เกี่ยวข้องกับอ็อบเจ็กต์เฉพาะ"
   ]
  },
  {
   "cell_type": "markdown",
   "metadata": {},
   "source": [
    "6. มีข้อจำกัดอะไรบ้างในการใช้ member constant \n"
   ]
  },
  {
   "cell_type": "markdown",
   "metadata": {},
   "source": [
    "ข้อจำกัดของ member constant ใน C# ได้แก่:\n",
    "\n",
    "1. ต้องกำหนดค่าให้ทันที เมื่อประกาศ ไม่สามารถเปลี่ยนแปลงค่าได้ภายหลัง\n",
    "\n",
    "2. ใช้กับชนิดข้อมูลที่ไม่สามารถเปลี่ยนแปลงค่าได้ เช่น ตัวเลข, Boolean, สตริง, และตัวอักษร (ไม่สามารถใช้กับอ็อบเจ็กต์หรืออาร์เรย์)\n",
    "\n",
    "3. ไม่สามารถใช้ใน runtime ต้องใช้ค่าคงที่ที่กำหนดไว้ในโค้ดเท่านั้น"
   ]
  },
  {
   "cell_type": "markdown",
   "metadata": {},
   "source": [
    "7. member constant เหมาะกับการใช้งานแบบไหน\n"
   ]
  },
  {
   "cell_type": "markdown",
   "metadata": {},
   "source": [
    "Member constant เหมาะสำหรับการใช้งานเมื่อคุณต้องการกำหนดค่า คงที่ ที่ไม่เปลี่ยนแปลงในระหว่างการทำงานของโปรแกรม เช่น ค่าคงที่ทางคณิตศาสตร์, ค่าตัวเลือก, หรือค่าคอนฟิกที่ใช้ในหลายส่วนของโปรแกรม"
   ]
  },
  {
   "cell_type": "markdown",
   "metadata": {},
   "source": [
    "8. จงตัวอย่าง Member Constant ในไลบรารี่ของภาษา C#"
   ]
  },
  {
   "cell_type": "markdown",
   "metadata": {},
   "source": [
    "ตัวอย่าง Member Constant ในไลบรารีของ C# คือ Math.PI, ซึ่งเป็นค่าคงที่ที่เก็บค่า π (พาย):\n",
    "\n",
    "ตัวอย่างการใช้งาน:\n",
    "\n",
    "using System;\n",
    "\n",
    "class Program {\n",
    "\n",
    "    static void Main() {\n",
    "\n",
    "        double circumference = 2 * Math.PI * 10;  // ใช้ Math.PI\n",
    "\n",
    "        Console.WriteLine(circumference);  // Output: 62.83185307179586\n",
    "\n",
    "    }\n",
    "    \n",
    "}"
   ]
  }
 ],
 "metadata": {
  "kernelspec": {
   "display_name": ".NET (C#)",
   "language": "C#",
   "name": ".net-csharp"
  },
  "polyglot_notebook": {
   "kernelInfo": {
    "defaultKernelName": "csharp",
    "items": [
     {
      "aliases": [],
      "languageName": "csharp",
      "name": "csharp"
     }
    ]
   }
  }
 },
 "nbformat": 4,
 "nbformat_minor": 2
}
