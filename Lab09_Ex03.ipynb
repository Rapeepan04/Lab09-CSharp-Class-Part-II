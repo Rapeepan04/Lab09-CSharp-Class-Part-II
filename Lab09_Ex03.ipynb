{
 "cells": [
  {
   "cell_type": "markdown",
   "metadata": {
    "dotnet_interactive": {
     "language": "csharp"
    },
    "polyglot_notebook": {
     "kernelName": "csharp"
    }
   },
   "source": [
    "# Lab 9 Exercise 3\n",
    "\n",
    "## Instance vs static members\n"
   ]
  },
  {
   "cell_type": "markdown",
   "metadata": {},
   "source": [
    "\n",
    "1. สร้าง console application project\n",
    "\n",
    "```cmd\n",
    "    dotnet new console --name Lab09_Ex03\n",
    "```\n"
   ]
  },
  {
   "cell_type": "markdown",
   "metadata": {},
   "source": [
    "\n",
    "2. เปลี่ยน code ให้เป็นดังต่อไปนี้\n",
    "\n",
    "```csharp\n",
    "    Person.name = \"____Person name _____\";\n",
    "    System.Cοnsο1e.write1ine(Person.GetName());\n",
    "    var student = new Student();\n",
    "    student.name = \"_______student name_______\";\n",
    "    System.Conso1e.ωrite1ine(student.GetName());\n",
    "\n",
    "    static Class Person\n",
    "    {\n",
    "        static  pub1ic string? name;\n",
    "        static  pub1ic string GetName()\n",
    "        {\n",
    "            return $\"Hello from {nawe}\";\n",
    "        }\n",
    "    }\n",
    "\n",
    "    class Student : Person\n",
    "    {\n",
    "        \n",
    "    }\n",
    "```\n"
   ]
  },
  {
   "cell_type": "markdown",
   "metadata": {},
   "source": [
    "3. Build project โดยการใช้คำสั่ง\n",
    "\n",
    "```cmd\n",
    "dotnet bul1d  Lab09_Ex03\n",
    "```\n",
    "\n",
    "ถ้ามีที่ผิดพลาดในโปรแกรม ให้แก้ไขให้ถูกต้อง\n"
   ]
  },
  {
   "cell_type": "markdown",
   "metadata": {},
   "source": []
  },
  {
   "cell_type": "markdown",
   "metadata": {},
   "source": [
    "\n",
    "4. บันทึกผลที่ได้จากการรันคำสั่งในข้อ 3 \n"
   ]
  },
  {
   "cell_type": "markdown",
   "metadata": {},
   "source": [
    " Lab09_Ex03 -> D:\\github\\Lab09-CSharp-Class-Part-II\\Lab09_Ex03\\bin\\Debug\\net8.0\\Lab09_Ex03.dll\n",
    "\n",
    "Build succeeded.\n",
    "    0 Warning(s)\n",
    "    0 Error(s)"
   ]
  },
  {
   "cell_type": "markdown",
   "metadata": {},
   "source": [
    "\n",
    "5. Run project โดยการใช้คำสั่ง\n",
    "\n",
    "```cmd\n",
    "dotnet rum --project Lab09_Ex03\n",
    "```\n"
   ]
  },
  {
   "cell_type": "markdown",
   "metadata": {},
   "source": [
    "\n",
    "6. บันทึกผลที่ได้จากการรันคำสั่งในข้อ 5\n"
   ]
  },
  {
   "cell_type": "markdown",
   "metadata": {},
   "source": [
    "Hello from Rapeepan\n",
    "\n",
    "Hello from Rapeepan Tongchai"
   ]
  },
  {
   "cell_type": "markdown",
   "metadata": {},
   "source": [
    "\n",
    "7. อธิบายสิ่งที่พบในการทดลอง"
   ]
  },
  {
   "cell_type": "markdown",
   "metadata": {},
   "source": [
    "จะแสดงผลลัพธ์เป็น Hello from Rapeepan และ Hello from Rapeepan Tongchai ใน Console"
   ]
  },
  {
   "cell_type": "markdown",
   "metadata": {},
   "source": [
    "## คำถาม"
   ]
  },
  {
   "cell_type": "markdown",
   "metadata": {},
   "source": [
    "1. ในภาษา C# นั้น Instance members และ static members  แตกต่างกันอย่างไร"
   ]
  },
  {
   "cell_type": "markdown",
   "metadata": {},
   "source": [
    "Instance Members → เป็นของอ็อบเจ็กต์, ต้องสร้างอ็อบเจ็กต์ก่อนใช้\n",
    "\n",
    "Static Members → เป็นของคลาส, ใช้ผ่านชื่อคลาสได้เลย"
   ]
  },
  {
   "cell_type": "markdown",
   "metadata": {},
   "source": [
    "2. เข้าถึง Instance members และ static members มีหลักการที่แตกต่างกันอย่างไร"
   ]
  },
  {
   "cell_type": "markdown",
   "metadata": {},
   "source": [
    "Instance Members → ใช้ผ่านอ็อบเจ็กต์ (obj.Member)\n",
    "\n",
    "Static Members → ใช้ผ่านคลาส (ClassName.Member)"
   ]
  },
  {
   "cell_type": "markdown",
   "metadata": {},
   "source": [
    "3. Instance members และ static members เหมาะกับการใช้งานแบบไหน"
   ]
  },
  {
   "cell_type": "markdown",
   "metadata": {},
   "source": [
    "Instance Members: ใช้เมื่อข้อมูลหรือฟังก์ชันต้องผูกกับอ็อบเจ็กต์แต่ละตัว เช่น ข้อมูลเฉพาะของอ็อบเจ็กต์ (เช่น ชื่อ, อายุ)\n",
    "\n",
    "Static Members: ใช้เมื่อข้อมูลหรือฟังก์ชันต้องแชร์ระหว่างทุกอ็อบเจ็กต์ของคลาส เช่น ค่าคงที่, ฟังก์ชันยูทิลิตี้, หรือข้อมูลที่ใช้ร่วมกันทุกอ็อบเจ็กต์"
   ]
  },
  {
   "cell_type": "markdown",
   "metadata": {},
   "source": [
    "4. Instance members และ static members ใช้หน่วยความจำต่างกันอย่างไร"
   ]
  },
  {
   "cell_type": "markdown",
   "metadata": {},
   "source": [
    "Instance Members: ใช้หน่วยความจำแยกต่างหากสำหรับแต่ละอ็อบเจ็กต์ที่สร้างขึ้น\n",
    "\n",
    "Static Members: ใช้หน่วยความจำร่วมกันสำหรับทุกอ็อบเจ็กต์ของคลาส (มีสำเนาเดียว)"
   ]
  },
  {
   "cell_type": "markdown",
   "metadata": {},
   "source": [
    "5. Instance members และ static members มีอายุการใช้งานต่างกันอย่างไร"
   ]
  },
  {
   "cell_type": "markdown",
   "metadata": {},
   "source": [
    "Instance Members: มีอายุการใช้งานตามอายุของอ็อบเจ็กต์ เมื่ออ็อบเจ็กต์ถูกทำลาย (Garbage Collected) จะถูกลบออกจากหน่วยความจำ\n",
    "\n",
    "Static Members: มีอายุการใช้งานตลอดอายุของโปรแกรมหรือแอปพลิเคชัน ตราบเท่าที่คลาสยังโหลดอยู่ในหน่วยความจำ"
   ]
  },
  {
   "cell_type": "markdown",
   "metadata": {},
   "source": [
    "6. Instance members และ static members สามารถใช้งานร่วมกันได้หรือไม่"
   ]
  },
  {
   "cell_type": "markdown",
   "metadata": {},
   "source": [
    "ได้, instance members และ static members สามารถใช้งานร่วมกันได้ แต่ static members สามารถเข้าถึง instance members ผ่านอ็อบเจ็กต์ที่ถูกสร้างขึ้นเท่านั้น โดยในทางกลับกัน instance members ไม่สามารถเข้าถึง static members ได้โดยตรงจากภายในเมธอดที่เป็น instance"
   ]
  },
  {
   "cell_type": "markdown",
   "metadata": {},
   "source": [
    "7. keyword static ใช้กับสมาชิกประเภทใดของคลาสได้บ้าง"
   ]
  },
  {
   "cell_type": "markdown",
   "metadata": {},
   "source": [
    "ใน C#, คำสั่ง static สามารถใช้กับสมาชิกประเภทต่างๆ ของคลาสได้ดังนี้:\n",
    "\n",
    "1. Fields (ตัวแปร)\n",
    "2. Methods (เมธอด)\n",
    "3. Properties (คุณสมบัติ)\n",
    "4. Constructors (คอนสตรัคเตอร์) — แต่ static constructor จะถูกเรียกอัตโนมัติเมื่อคลาสถูกโหลด\n",
    "5. Nested Classes (คลาสย่อยภายในคลาส)"
   ]
  }
 ],
 "metadata": {
  "kernelspec": {
   "display_name": ".NET (C#)",
   "language": "C#",
   "name": ".net-csharp"
  },
  "polyglot_notebook": {
   "kernelInfo": {
    "defaultKernelName": "csharp",
    "items": [
     {
      "aliases": [],
      "languageName": "csharp",
      "name": "csharp"
     }
    ]
   }
  }
 },
 "nbformat": 4,
 "nbformat_minor": 2
}
